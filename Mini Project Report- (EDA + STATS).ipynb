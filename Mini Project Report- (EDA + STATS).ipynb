{
 "cells": [
  {
   "cell_type": "markdown",
   "id": "4a1aae82",
   "metadata": {},
   "source": [
    "# EDA and Statistical Analysis of Credit Card Dataset"
   ]
  },
  {
   "cell_type": "markdown",
   "id": "7c1185d2",
   "metadata": {},
   "source": [
    "###  Import the required libraries"
   ]
  },
  {
   "cell_type": "code",
   "execution_count": 1,
   "id": "3ab085a6",
   "metadata": {},
   "outputs": [
    {
     "name": "stdout",
     "output_type": "stream",
     "text": [
      "All libraries have been imported\n"
     ]
    }
   ],
   "source": [
    "# import pandas\n",
    "import pandas as pd\n",
    "\n",
    "# import 'numpy' \n",
    "import numpy as np\n",
    "\n",
    "# import subpackage of matplotlib\n",
    "import matplotlib.pyplot as plt\n",
    "\n",
    "# import 'seaborn'\n",
    "import seaborn as sns\n",
    "\n",
    "# to suppress warnings \n",
    "from warnings import filterwarnings\n",
    "filterwarnings('ignore')\n",
    "\n",
    "# import statistics to perform statistical computation  \n",
    "import statistics\n",
    "\n",
    "# import 'stats' package from scipy library\n",
    "from scipy import stats\n",
    "\n",
    "# import a library to perform Z-test\n",
    "from statsmodels.stats import weightstats as stests\n",
    "\n",
    "# to test the normality \n",
    "from scipy.stats import shapiro\n",
    "\n",
    "# import the function to calculate the power of test\n",
    "from statsmodels.stats import power\n",
    "\n",
    "from scipy.stats import binom\n",
    "\n",
    "print(\"All libraries have been imported\")"
   ]
  },
  {
   "cell_type": "markdown",
   "id": "d8ee3fa4",
   "metadata": {},
   "source": [
    "## PART-A ( Concept Based)"
   ]
  },
  {
   "cell_type": "code",
   "execution_count": 3,
   "id": "ce73dc70",
   "metadata": {},
   "outputs": [],
   "source": [
    "# The following are the ages of CEOs of 42 Top Fortune 500 Companies when they took over the post of CEO\n",
    "\n",
    "ages_CEO =[57,61,57,57,58,57,61,54,68,\n",
    "           51,49,64,50,48,65,52,56,46,\n",
    "           54,49,50,47,55,55,54,42,51,\n",
    "           56,55,54,51,60,62,43,55,56,\n",
    "           61,52,69,64,46,54]"
   ]
  },
  {
   "cell_type": "markdown",
   "id": "94c940ee",
   "metadata": {},
   "source": [
    "## 1. Compute the mean, median and the mode of the data"
   ]
  },
  {
   "cell_type": "code",
   "execution_count": 4,
   "id": "88f61c63",
   "metadata": {},
   "outputs": [
    {
     "name": "stdout",
     "output_type": "stream",
     "text": [
      "Mean: 55\n",
      "Median: 55\n",
      "Mode: ModeResult(mode=array([54]), count=array([5]))\n"
     ]
    }
   ],
   "source": [
    "# To find the average ,median and mode of the data using numpy and statisticals method\n",
    "\n",
    "mean = np.mean(ages_CEO)\n",
    "median = np.median(ages_CEO)\n",
    "mode = stats.mode(ages_CEO)\n",
    "\n",
    "print(\"Mean:\", round(mean))\n",
    "print(\"Median:\", round(median))\n",
    "print(\"Mode:\", mode)"
   ]
  },
  {
   "cell_type": "markdown",
   "id": "7717fb83",
   "metadata": {},
   "source": [
    "## 2. Compute the range , variance and standard deviation of CEO ages"
   ]
  },
  {
   "cell_type": "code",
   "execution_count": 5,
   "id": "552ababe",
   "metadata": {},
   "outputs": [
    {
     "name": "stdout",
     "output_type": "stream",
     "text": [
      "Range:  27\n",
      "Variance:  38.51474\n",
      "Standard deviation:  6.20602\n"
     ]
    }
   ],
   "source": [
    "# To find the range,variance and standard deviation of CEO ages \n",
    "\n",
    "#  To find the Range using np.min() and np.max() method\n",
    "range = np.max(ages_CEO) - np.min(ages_CEO)\n",
    "\n",
    "# To find the Variance using np.var() method\n",
    "variance = np.var(ages_CEO)\n",
    "\n",
    "# To find the Standard deviation using np.std() method \n",
    "std_deviation = np.std(ages_CEO)\n",
    "\n",
    "# Print the output\n",
    "print(\"Range: \", range)\n",
    "print(\"Variance: \", round(variance,5))\n",
    "print(\"Standard deviation: \", round(std_deviation,5))"
   ]
  },
  {
   "cell_type": "markdown",
   "id": "dc20dcf7",
   "metadata": {},
   "source": [
    "## 3. Find the mean deviation for the data . The mean deviation is defined as below."
   ]
  },
  {
   "cell_type": "markdown",
   "id": "54dd9e0a",
   "metadata": {},
   "source": [
    "Mean Deviation =summation|X-X_bar| /  n"
   ]
  },
  {
   "cell_type": "code",
   "execution_count": 6,
   "id": "ccdafbcf",
   "metadata": {},
   "outputs": [
    {
     "name": "stdout",
     "output_type": "stream",
     "text": [
      " Mean deviation for the data :  4.814\n"
     ]
    }
   ],
   "source": [
    "# To find the mean deviation using the formula : Mean Deviation =summation|X-X_bar| / n\n",
    "\n",
    "def mean_deviation(ages_CEO):\n",
    "    n = len(ages_CEO)\n",
    "    mean = sum(ages_CEO) / n\n",
    "    deviation = [abs(x - mean) for x in ages_CEO]\n",
    "    return sum(deviation) / n\n",
    "\n",
    "ages_CEO =[57,61,57,57,58,57,61,54,68,\n",
    "           51,49,64,50,48,65,52,56,46,\n",
    "           54,49,50,47,55,55,54,42,51,\n",
    "           56,55,54,51,60,62,43,55,56,\n",
    "           61,52,69,64,46,54]\n",
    "print(\" Mean deviation for the data : \" ,round(mean_deviation(ages_CEO),3))"
   ]
  },
  {
   "cell_type": "markdown",
   "id": "ed5f070e",
   "metadata": {},
   "source": [
    "## 4. Calculate the Pearson coefficient of skewness and comment on the skewness of the data"
   ]
  },
  {
   "cell_type": "code",
   "execution_count": 8,
   "id": "3ae2b7fb",
   "metadata": {},
   "outputs": [
    {
     "name": "stdout",
     "output_type": "stream",
     "text": [
      "Pearson coefficient of skewness :  0    0.19306\n",
      "dtype: float64\n"
     ]
    }
   ],
   "source": [
    "# To find the Pearson coefficient of skewness using skew() function\n",
    "ages_CEO=pd.DataFrame(ages_CEO)\n",
    "skewness=ages_CEO.skew()\n",
    "print('Pearson coefficient of skewness : ',skewness)"
   ]
  },
  {
   "cell_type": "code",
   "execution_count": 9,
   "id": "28cd08d5",
   "metadata": {},
   "outputs": [
    {
     "data": {
      "image/png": "[encoded data removed]",
      "text/plain": [
       "<Figure size 640x480 with 1 Axes>"
      ]
     },
     "metadata": {},
     "output_type": "display_data"
    }
   ],
   "source": [
    "# The value of the coefficient if skewness usually ranges from –3 to 3\n",
    "\n",
    "sns.distplot(ages_CEO)\n",
    "plt.show()"
   ]
  },
  {
   "cell_type": "markdown",
   "id": "dfe17be3",
   "metadata": {},
   "source": [
    "###  Observation: The distribution is positively skewed ,The coefficient is positive"
   ]
  },
  {
   "cell_type": "markdown",
   "id": "d91afda7",
   "metadata": {},
   "source": [
    "## Q5. Count the number of data values that fall within two standard deviations of the mean.  Compare this with the answer from Chebyshev’s Theorem."
   ]
  },
  {
   "cell_type": "code",
   "execution_count": 9,
   "id": "28a1028f",
   "metadata": {},
   "outputs": [
    {
     "name": "stdout",
     "output_type": "stream",
     "text": [
      "The number of data values that fall within two standard deviations of the mean count is 39\n"
     ]
    }
   ],
   "source": [
    "# To Count the number of data values that fall within two standard deviations of the mean.\n",
    "\n",
    "# This code creates an array of data values and calculates the mean and standard deviation using NumPy.\n",
    "ages_CEO =np.array([57,61,57,57,58,57,61,54,68,\n",
    "           51,49,64,50,48,65,52,56,46,\n",
    "           54,49,50,47,55,55,54,42,51,\n",
    "           56,55,54,51,60,62,43,55,56,\n",
    "           61,52,69,64,46,54])\n",
    "mean = np.mean(ages_CEO)\n",
    "std_dev = np.std(ages_CEO)\n",
    "## It then calculates the lower and upper bounds for two standard deviations from the mean.\n",
    "lower_bound = mean - 2 * std_dev\n",
    "upper_bound = mean + 2 * std_dev\n",
    "## Finally, it counts the number of data values that fall within this range.\n",
    "count = len(ages_CEO[(ages_CEO > lower_bound) & (ages_CEO < upper_bound)])\n",
    "# To print the output\n",
    "print(\"The number of data values that fall within two standard deviations of the mean count is\",count)"
   ]
  },
  {
   "cell_type": "markdown",
   "id": "8dd2094a",
   "metadata": {},
   "source": [
    "### Observation:    Chebyshev’s Theorem states that at least 89% of the observations fall inside that range,and no more than 11% fall outside that range."
   ]
  },
  {
   "cell_type": "markdown",
   "id": "63fd0e93",
   "metadata": {},
   "source": [
    "## 6. Find the three quartiles and the interquartile range (IQR)."
   ]
  },
  {
   "cell_type": "code",
   "execution_count": 10,
   "id": "f750ae76",
   "metadata": {},
   "outputs": [
    {
     "name": "stdout",
     "output_type": "stream",
     "text": [
      "First Quartile (Q1): 51\n",
      "Second Quartile (Q2): 55\n",
      "Third Quartile (Q3): 58\n",
      "Interquartile Range (IQR): 6.75\n"
     ]
    }
   ],
   "source": [
    "# To find the three quartiles\n",
    "Q1 = np.percentile(ages_CEO, 25)\n",
    "Q2 = np.percentile(ages_CEO, 50)\n",
    "Q3 = np.percentile(ages_CEO, 75)\n",
    "\n",
    "# To calculate the interquartile range\n",
    "IQR = Q3 - Q1\n",
    "\n",
    "# Print the output\n",
    "print(\"First Quartile (Q1):\", round(Q1))\n",
    "print(\"Second Quartile (Q2):\", round(Q2))\n",
    "print(\"Third Quartile (Q3):\", round(Q3))\n",
    "print(\"Interquartile Range (IQR):\", IQR)"
   ]
  },
  {
   "cell_type": "markdown",
   "id": "03049bd0",
   "metadata": {},
   "source": [
    "## 7. Are there any outliers in the dataset ?"
   ]
  },
  {
   "cell_type": "code",
   "execution_count": 12,
   "id": "68435102",
   "metadata": {},
   "outputs": [
    {
     "name": "stdout",
     "output_type": "stream",
     "text": [
      " Outliers :  [68 69]\n"
     ]
    }
   ],
   "source": [
    "# Calculate the interquartile range\n",
    "IQR = Q3 - Q1\n",
    "\n",
    "# Find the lower and upper bounds\n",
    "lower_bound = Q1 - 1.5 * IQR\n",
    "upper_bound = Q3 + 1.5 * IQR\n",
    "\n",
    "# Filter out the outliers\n",
    "outliers = ages_CEO[(ages_CEO < lower_bound) | (ages_CEO > upper_bound)]\n",
    "print(\" Outliers : \" , outliers)"
   ]
  },
  {
   "cell_type": "markdown",
   "id": "9faba116",
   "metadata": {},
   "source": [
    "### Observation : Yes ,There are two outliers in the dataset."
   ]
  },
  {
   "cell_type": "markdown",
   "id": "bfa2a9df",
   "metadata": {},
   "source": [
    "## 8. Draw a boxplot of the dataset to confirm."
   ]
  },
  {
   "cell_type": "code",
   "execution_count": 13,
   "id": "ffd0267b",
   "metadata": {},
   "outputs": [
    {
     "data": {
      "image/png": "[encoded data removed]",
      "text/plain": [
       "<Figure size 640x480 with 1 Axes>"
      ]
     },
     "metadata": {},
     "output_type": "display_data"
    }
   ],
   "source": [
    "# To plot the graph using boxplot\n",
    "sns.boxplot(y=ages_CEO)\n",
    "plt.show()"
   ]
  },
  {
   "cell_type": "markdown",
   "id": "6cf4e14d",
   "metadata": {},
   "source": [
    "## Q9. Find the percentile rank of the datapoint 50."
   ]
  },
  {
   "cell_type": "code",
   "execution_count": 14,
   "id": "5a00ee4e",
   "metadata": {},
   "outputs": [
    {
     "name": "stdout",
     "output_type": "stream",
     "text": [
      "The percentile rank of 50 in the given dataset is 55\n"
     ]
    }
   ],
   "source": [
    "# Use the numpy.percentile function to find the percentile rank of 50\n",
    "percentile_rank = np.percentile(ages_CEO, 50)\n",
    "\n",
    "# Print the result\n",
    "print(\"The percentile rank of 50 in the given dataset is\", round(percentile_rank))"
   ]
  },
  {
   "cell_type": "markdown",
   "id": "f2f03e57",
   "metadata": {},
   "source": [
    "### This means that 50% of the data points in the dataset are below or equal to 55. \n"
   ]
  },
  {
   "cell_type": "markdown",
   "id": "683e8901",
   "metadata": {},
   "source": [
    "## Q10. What is the probability that a person becoming a CEO is below 50 years of age ?"
   ]
  },
  {
   "cell_type": "code",
   "execution_count": 11,
   "id": "21366fc6",
   "metadata": {},
   "outputs": [
    {
     "name": "stdout",
     "output_type": "stream",
     "text": [
      "The probability that a person becoming a CEO is below 50 years of age is 0.19048\n"
     ]
    }
   ],
   "source": [
    "# Count the number of data points below 50\n",
    "below_50 = np.sum(ages_CEO < 50)\n",
    "\n",
    "# Count the total number of data points\n",
    "total = len(ages_CEO)\n",
    "\n",
    "# Calculate the probability as the ratio of below_50 to total\n",
    "probability = below_50 / total\n",
    "\n",
    "# Print the result\n",
    "print(\"The probability that a person becoming a CEO is below 50 years of age is\", round(probability,5))"
   ]
  },
  {
   "cell_type": "markdown",
   "id": "7210bddd",
   "metadata": {},
   "source": [
    "## 11. Create a frequency distribution for the data and visualize it appropriately"
   ]
  },
  {
   "cell_type": "code",
   "execution_count": 12,
   "id": "370fd33c",
   "metadata": {},
   "outputs": [
    {
     "data": {
      "image/png": "[encoded data removed]",
      "text/plain": [
       "<Figure size 640x480 with 1 Axes>"
      ]
     },
     "metadata": {},
     "output_type": "display_data"
    }
   ],
   "source": [
    "# Specify the number of bins as 5\n",
    "\n",
    "bins=[40,50,60,70,80]\n",
    "\n",
    "# Create a frequency distribution using numpy.hist() function\n",
    "plt.hist(ages_CEO, bins=bins ,edgecolor='k' ,alpha=0.7)\n",
    "\n",
    "# Add labels and title to the plot\n",
    "plt.xlabel(\"Age Intervals\")\n",
    "plt.ylabel(\"Frequency\")\n",
    "plt.title(\"Frequency Distribution of CEO Ages\")\n",
    "plt.xticks(bins)\n",
    "plt.grid(axis='y' ,linestyle='--', alpha=0.7)\n",
    "\n",
    "# Show the plot\n",
    "plt.show()"
   ]
  },
  {
   "cell_type": "markdown",
   "id": "3e07d355",
   "metadata": {},
   "source": [
    "### Observation:\n",
    "- 1.This histogram displays the frequency distribution of CEO ages. The x-axis represents the age intervals and the y-axis represents the frequency or count of CEOs within each age range.\n",
    "- 2.We can observe that most CEOs took over their positions in their late forties or early fifties.\n",
    "- 3.There is a relatively small number of CEOs who took over their positions in their sixties or late sixties.\n",
    "- 4.The distribution appears to be slightly right-skewed."
   ]
  },
  {
   "cell_type": "markdown",
   "id": "468aa0e1",
   "metadata": {},
   "source": [
    "## 12. Create a probability distribution of the data and visualize it appropriately."
   ]
  },
  {
   "cell_type": "code",
   "execution_count": 17,
   "id": "0966e057",
   "metadata": {},
   "outputs": [
    {
     "data": {
      "image/png": "[encoded data removed]",
      "text/plain": [
       "<Figure size 640x480 with 1 Axes>"
      ]
     },
     "metadata": {},
     "output_type": "display_data"
    }
   ],
   "source": [
    "# Calculate unique values and their corresponding probabilities\n",
    "unique_ages,age_counts=np.unique(ages_CEO ,return_counts=True)\n",
    "total_CEOs =len(ages_CEO)\n",
    "\n",
    "# Dividing the count of age by the total number of CEO's\n",
    "probabilities = age_counts / total_CEOs\n",
    "\n",
    "# Create a bar plot for the probability distribution\n",
    "plt.bar(unique_ages,probabilities,align='center',alpha=0.7)\n",
    "plt.xlabel(\"Age\")\n",
    "plt.ylabel(\"Probability\")\n",
    "plt.title(\"CEO Ages Probability Distribution \")\n",
    "plt.grid(axis='y',linestyle='--' , alpha=0.7)\n",
    "plt.show()"
   ]
  },
  {
   "cell_type": "markdown",
   "id": "30ed6557",
   "metadata": {},
   "source": [
    "### 13. What is the shape of the distribution of this dataset? Create an appropriate graph to determine that. Take 100  random samples with replacement from this dataset of size 5 each. Create a sampling distribution of the mean age of customers.Compare with other sampling distributions of sample size 10, 15, 20, 25, 30. \n",
    "State your observations.Does it corroborate the Central Limit Theorem?\n"
   ]
  },
  {
   "cell_type": "code",
   "execution_count": 18,
   "id": "15bf2a40",
   "metadata": {},
   "outputs": [
    {
     "data": {
      "image/png": "[encoded data removed]",
      "text/plain": [
       "<Figure size 1200x1400 with 7 Axes>"
      ]
     },
     "metadata": {},
     "output_type": "display_data"
    }
   ],
   "source": [
    "# Sample sizes to consider\n",
    "sample_sizes = [5, 10, 15, 20, 25, 30]\n",
    "\n",
    "# Create subplots to visualize the original distribution and sampling distributions\n",
    "plt.figure(figsize=(12, 14))\n",
    "\n",
    "# Plot the original distribution\n",
    "plt.subplot(4, 2, 1)\n",
    "plt.hist(ages_CEO, bins=20, edgecolor='k', alpha=0.7)\n",
    "plt.title('Original Distribution')\n",
    "plt.xlabel('Age')\n",
    "plt.ylabel('Frequency')\n",
    "\n",
    "# Generate sampling distribution means for different sample sizes\n",
    "sampling_distribution_means = []\n",
    "for i, sample_size in enumerate(sample_sizes):\n",
    "    means = np.mean(np.random.choice(ages_CEO, size=(100, sample_size), replace=True), axis=1)\n",
    "    sampling_distribution_means.append(means)\n",
    "\n",
    "# Plot the sampling distributions\n",
    "for i, sample_size in enumerate(sample_sizes):\n",
    "    plt.subplot(4, 2, i + 2)\n",
    "    plt.hist(sampling_distribution_means[i], bins=20, edgecolor='k', alpha=0.7)\n",
    "    plt.title(f'Sample Size = {sample_size}')\n",
    "    plt.xlabel('Mean Age')\n",
    "    plt.ylabel('Frequency')\n",
    "\n",
    "plt.tight_layout()\n",
    "plt.show()\n"
   ]
  },
  {
   "cell_type": "markdown",
   "id": "f5352b6f",
   "metadata": {},
   "source": [
    "### The code above creates a histogram to visualize the original distribution of ages in the dataset. It then generates 100 random samples with replacement from this dataset for each of the specified sample sizes (5, 10, 15, 20, 25, and 30). \n",
    "### For each sample, it calculates the mean age and stores it in a list.Finally, it plots the sampling distributions of the mean age for each sample size."
   ]
  },
  {
   "cell_type": "markdown",
   "id": "1b4c417a",
   "metadata": {},
   "source": [
    "### Q14. Treat this dataset as a binomial distribution where p is the probability that a person becomes a CEO above 50 years age. What is the probability that out of a random sample of 10 CEOs of Fortune 500 companies exactly 6 are above 50 years of age?"
   ]
  },
  {
   "cell_type": "code",
   "execution_count": 13,
   "id": "72ff9e12",
   "metadata": {},
   "outputs": [
    {
     "name": "stdout",
     "output_type": "stream",
     "text": [
      "0.762\n"
     ]
    }
   ],
   "source": [
    "# Count how many CEOs are above 50\n",
    "above_50 = np.sum(ages_CEO > 50)\n",
    "# Divide by the total number of CEOs\n",
    "p = above_50 / len(ages_CEO)\n",
    "print(round(p,3))"
   ]
  },
  {
   "cell_type": "code",
   "execution_count": 14,
   "id": "5523ce6f",
   "metadata": {},
   "outputs": [
    {
     "name": "stdout",
     "output_type": "stream",
     "text": [
      "Probability that exactly 6 are above 50 years of age is: 0.132\n"
     ]
    }
   ],
   "source": [
    "# Calculate the binomial probability\n",
    "probability = binom.pmf(k=6, n=10, p=0.762)\n",
    "print(\"Probability that exactly 6 are above 50 years of age is:\",round(probability,3))"
   ]
  },
  {
   "cell_type": "markdown",
   "id": "9e61136f",
   "metadata": {},
   "source": [
    "### So the probability that out of a random sample of 10 CEOs of Fortune 500 companies exactly 6 are above 50 years of age is about 0.132"
   ]
  },
  {
   "cell_type": "markdown",
   "id": "9518ebea",
   "metadata": {},
   "source": [
    "## 15. A study claims that 25% of all Fortune 500 companies becoming a CEO are above 60 years of age. Using the Normal approximation of a Binomial distribution, find the probability that in a random sample of 300 Fortune 500 companies exactly 75 CEOs will be above 50 years of age.\n",
    "[ Note that the normal distribution can be used to approximate a binomial distribution if np>=5 and nq>=5 with the following correction for continuity P(X=z) = P(z-0.5 < X < z+0.5 ) ]"
   ]
  },
  {
   "cell_type": "code",
   "execution_count": 15,
   "id": "27372f76",
   "metadata": {},
   "outputs": [
    {
     "name": "stdout",
     "output_type": "stream",
     "text": [
      "The probability that in a random sample of 300 Fortune 500 companies exactly 75 CEOs will be above 50 years of age is 0.0532\n"
     ]
    }
   ],
   "source": [
    "# Define the variables\n",
    "n = 300 # number of trials\n",
    "p = 0.25 # probability of success in each trial\n",
    "q = 1 - p # probability of failure in each trial\n",
    "X = 75 # number of successes in n trials\n",
    "mean = n * p # mean of X\n",
    "std = (n * p * q) ** 0.5 # standard deviation of X\n",
    "\n",
    "# Use the correction for continuity and the normal distribution functions\n",
    "lower = (X - 0.5 - mean) / std # lower bound of Z\n",
    "upper = (X + 0.5 - mean) / std # upper bound of Z\n",
    "prob = stats.norm.cdf(upper) - stats.norm.cdf(lower) # probability of X being exactly 75\n",
    "\n",
    "# Print the result\n",
    "print(\"The probability that in a random sample of 300 Fortune 500 companies exactly 75 CEOs will be above 50 years of age is\", \n",
    "      round(prob, 4))"
   ]
  },
  {
   "cell_type": "markdown",
   "id": "d7f72fc4",
   "metadata": {},
   "source": [
    "## 16. Compute a 95% Confidence Interval for the true mean age of the population of CEOs for the given dataset using appropriate distribution.( State reasons as to why did you use a z or t distribution)"
   ]
  },
  {
   "cell_type": "code",
   "execution_count": 21,
   "id": "ee8f78b7",
   "metadata": {},
   "outputs": [],
   "source": [
    "ages_CEO =[57,61,57,57,58,57,61,54,68,\n",
    "           51,49,64,50,48,65,52,56,46,\n",
    "           54,49,50,47,55,55,54,42,51,\n",
    "           56,55,54,51,60,62,43,55,56,\n",
    "           61,52,69,64,46,54]"
   ]
  },
  {
   "cell_type": "markdown",
   "id": "e5a8d82e",
   "metadata": {},
   "source": [
    "### The sample size is greater than 30 and the population standard deviation is unknown, we can use a t-distribution "
   ]
  },
  {
   "cell_type": "code",
   "execution_count": 16,
   "id": "c778ac3c",
   "metadata": {},
   "outputs": [
    {
     "name": "stdout",
     "output_type": "stream",
     "text": [
      "The true mean age of the population of CEOs is between 53.29 and 56.52 with a confidence level of 95%.\n"
     ]
    }
   ],
   "source": [
    "# Calculate sample mean and standard deviation\n",
    "x_bar = np.mean(ages_CEO)\n",
    "s = np.std(ages_CEO)\n",
    "n= len(ages_CEO)\n",
    "# Calculate critical value for t-distribution\n",
    "t_crit = stats.t.ppf(q=0.95, df=n-1)\n",
    "\n",
    "# Calculate margin of error\n",
    "moe = t_crit * s / np.sqrt(n)\n",
    "\n",
    "# Calculate confidence interval\n",
    "ci = (x_bar - moe , x_bar + moe)\n",
    "\n",
    "# Print the output\n",
    "print(f\"The true mean age of the population of CEOs is between {ci[0]:.2f} and {ci[1]:.2f} with a confidence level of {0.95:.0%}.\")"
   ]
  },
  {
   "cell_type": "markdown",
   "id": "2bd5252e",
   "metadata": {},
   "source": [
    "## 17. A data scientist wants to estimate with 95% confidence the proportion of CEOs of Fortune 500 companies are above 60 years in the population.\n",
    "Another recent study showed that 25% of CEOs interviewed were above 60. The data scientist wants to be accurate within 2% of the true proportion. Find the minimum sample size necessary."
   ]
  },
  {
   "cell_type": "code",
   "execution_count": 21,
   "id": "441ff3c3",
   "metadata": {},
   "outputs": [
    {
     "name": "stdout",
     "output_type": "stream",
     "text": [
      "The minimum sample size required is 1801.\n"
     ]
    }
   ],
   "source": [
    "import math\n",
    "\n",
    "# Define the desired margin of error and confidence level\n",
    "E = 0.02\n",
    "alpha = 0.05\n",
    "\n",
    "# Estimate the proportion of CEOs above 60 based on the recent study\n",
    "p_hat = 0.25\n",
    "\n",
    "# Calculate the critical value for a normal distribution\n",
    "z_alpha_over_2 = abs(stats.norm.ppf(alpha/2))\n",
    "\n",
    "# Calculate the minimum sample size\n",
    "n = math.ceil((z_alpha_over_2 / E)**2 * p_hat * (1 - p_hat))\n",
    "\n",
    "print(f\"The minimum sample size required is {n}.\")"
   ]
  },
  {
   "cell_type": "markdown",
   "id": "0fd06bb8",
   "metadata": {},
   "source": [
    "## 18. The same data scientist wants to estimate the true proportion of CEOs ascending to the post and above 60 years. She wants to be 90% confident and accurate within 5% of true proportion. Find the minimum sample size necessary.\n"
   ]
  },
  {
   "cell_type": "code",
   "execution_count": 18,
   "id": "f382ad6b",
   "metadata": {},
   "outputs": [
    {
     "name": "stdout",
     "output_type": "stream",
     "text": [
      "The minimum sample size necessary is : 1082.0\n"
     ]
    }
   ],
   "source": [
    "# To calculate the minimum sample size\n",
    "\n",
    "from scipy.stats import norm\n",
    "# Set the desired confidence level and margin of error\n",
    "confidence_level=0.90\n",
    "margin_of_error=0.05\n",
    "\n",
    "# Calculate the critical value(z-score) corresponding to the confidence level\n",
    "critical_value =norm.ppf((1+confidence_level)/2)\n",
    "\n",
    "# Calculate the minimum sample size\n",
    "minimum_sample_size = round((critical_value/margin_of_error)**2,0)\n",
    "\n",
    "print(\"The minimum sample size necessary is :\" , minimum_sample_size)"
   ]
  },
  {
   "cell_type": "markdown",
   "id": "356cc56e",
   "metadata": {},
   "source": [
    "## Q19. A researcher claims that currently 25% of all CEOS are above 60 years . Test his claim with an alpha =0.05 if out of a random sample of 30 CEOs only 10 are above 60 years."
   ]
  },
  {
   "cell_type": "code",
   "execution_count": 19,
   "id": "a3b58437",
   "metadata": {},
   "outputs": [
    {
     "name": "stdout",
     "output_type": "stream",
     "text": [
      "The p_value is  0.294462962615145 based on this , We Reject the alternative hypothesis\n"
     ]
    }
   ],
   "source": [
    "# Null hypothesis (H0)        : The proportion of CEO above 60 years is 25%\n",
    "# Alternateive hypothesis(H1) : The proportion of CEO above 60 years is not 25%\n",
    "\n",
    "# We can use the binomial test function from scipy.stats module\n",
    "\n",
    "from scipy.stats import binom_test\n",
    "\n",
    "sample_size =30\n",
    "observed_successes = 10\n",
    "expected_proportion =0.25\n",
    "alpha=0.05\n",
    "\n",
    "# Perform the hypothesis test\n",
    "\n",
    "p_value= binom_test(observed_successes,n=sample_size,p=expected_proportion,alternative='two-sided')\n",
    "\n",
    "# Compare the p_value with the significance level (alpha)\n",
    "\n",
    "if p_value <alpha:\n",
    "    conclusion='Reject the null hypothesis'\n",
    "else:\n",
    "    conclusion ='Reject the alternative hypothesis'\n",
    "    \n",
    "print(\"The p_value is \" , p_value ,\"based on this , We\",conclusion)"
   ]
  },
  {
   "cell_type": "markdown",
   "id": "cdb8370c",
   "metadata": {},
   "source": [
    "### 20. Assume you are a data scientist for the Fortune 500 companies. You are asked to research the question whether the CEO ages of UK are on average older than the CEO ages of Americans. you take a random sample of 40 CEO ages from America and UK and the data is as follows:"
   ]
  },
  {
   "cell_type": "code",
   "execution_count": 26,
   "id": "774cf6a8",
   "metadata": {},
   "outputs": [],
   "source": [
    "UK = [47, 49, 73, 50, 65, 70, 49, 47, 40, 43,\n",
    "      46, 35, 38, 40, 47, 39, 49, 37, 37, 36,\n",
    "      40, 37, 31, 48, 48, 45, 52, 38, 38, 36,\n",
    "      44, 40, 48, 45, 45, 36, 39, 44, 52, 47]\n",
    "USA = [47, 57, 52, 47, 48, 56, 56, 52, 50, 40,\n",
    "       46, 43, 44, 51, 36, 42, 49, 49, 40, 43,\n",
    "       39, 39, 22, 41, 45, 46, 39, 32, 36, 32,\n",
    "       32, 32, 37, 33, 44, 49, 44, 44, 49, 32]"
   ]
  },
  {
   "cell_type": "markdown",
   "id": "d2cefc57",
   "metadata": {},
   "source": [
    "## a. What are your hypotheses?"
   ]
  },
  {
   "cell_type": "code",
   "execution_count": null,
   "id": "e8837f5d",
   "metadata": {},
   "outputs": [],
   "source": [
    "The hypothesis for comparing the average CEO age of the UK is equal to the average CEO age of the USA\n",
    "\n",
    "** Null hypothesis (H0)        : The average CEO age of UK is equal to the average CEO age of USA.\n",
    "** Alternative hypothesis (H1) : The average CEO age of UK is greater than the average CEO age of USA.  "
   ]
  },
  {
   "cell_type": "markdown",
   "id": "9a510ec5",
   "metadata": {},
   "source": [
    "## b. What significance level will you use?"
   ]
  },
  {
   "cell_type": "markdown",
   "id": "4bff2b19",
   "metadata": {},
   "source": [
    "### Answer: The significance level also known as alpha, determines the threshold for accepting or rejecting the null hypothesis.\n",
    "### A significance level of 0.05 will be used which means to accept a 5% chance of making a Type I error (rejecting the null hypothesis when it's true)"
   ]
  },
  {
   "cell_type": "markdown",
   "id": "68c798be",
   "metadata": {},
   "source": [
    "## c. What statistical test will you use?"
   ]
  },
  {
   "cell_type": "markdown",
   "id": "0d757356",
   "metadata": {},
   "source": [
    "###  Answer: A two-sample t-test will be used to compare the means of two independent groups."
   ]
  },
  {
   "cell_type": "markdown",
   "id": "70a567a6",
   "metadata": {},
   "source": [
    "### d. What are the test results? (Assume s1 = 8.8 and s2= 7.8.)"
   ]
  },
  {
   "cell_type": "code",
   "execution_count": 20,
   "id": "609aa216",
   "metadata": {},
   "outputs": [
    {
     "name": "stdout",
     "output_type": "stream",
     "text": [
      "t_stats : 1.0084435261263631 p_value : 0.3163597537418728\n",
      " Average CEO age of UK is significantly older than the average CEO age of US\n"
     ]
    }
   ],
   "source": [
    "sample_size1 = 40\n",
    "sample_size2 = 40\n",
    "sample_mean1 = 44.75\n",
    "sample_mean2 = 42.875\n",
    "sample_std_deviation1  = 8.8\n",
    "sample_std_deviation2  = 7.8\n",
    "\n",
    "# Calculate the t-test statistic and p-value\n",
    "\n",
    "import scipy.stats as stats\n",
    "\n",
    "t_stat,p_value=stats.ttest_ind_from_stats(sample_mean1,sample_std_deviation1,sample_size1,sample_mean2,sample_std_deviation2,\n",
    "                                         sample_size2)\n",
    "print('t_stats :', t_stat ,'p_value :',p_value)\n",
    "# Print the test result\n",
    "\n",
    "if p_value<0.5:\n",
    "    print(\" Average CEO age of UK is significantly older than the average CEO age of US\")\n",
    "else:\n",
    "    print(\" There is no significant difference in the average CEO ages between the UK and the USA\")"
   ]
  },
  {
   "cell_type": "markdown",
   "id": "6d887c6d",
   "metadata": {},
   "source": [
    "## e. What is your decision?"
   ]
  },
  {
   "cell_type": "markdown",
   "id": "4e563d9f",
   "metadata": {},
   "source": [
    "### We fail to reject the null hypothesis."
   ]
  },
  {
   "cell_type": "raw",
   "id": "262d0c71",
   "metadata": {},
   "source": [
    "** The decision to accept or reject the null hypothesis depends on the p_value obtained from the statistical test\n",
    "** If the p_value is less than the significance level (0.05) ,\n",
    "** we reject the null hypothesis and conclude that the average CEO age of UK is older than the average CEO age of USA\n",
    "** Otherwise if the p_value is greater  than or equal to the significance level,we fail to reject the null hypothesis."
   ]
  },
  {
   "cell_type": "markdown",
   "id": "9c796164",
   "metadata": {},
   "source": [
    "## f. What can you conclude?"
   ]
  },
  {
   "cell_type": "markdown",
   "id": "6bba7a32",
   "metadata": {},
   "source": [
    "###  Answer:Based on our test results and decision,we do not have sufficient evidence to conclude that the average CEO age of UK is greater than that of USA."
   ]
  },
  {
   "cell_type": "markdown",
   "id": "c1059dce",
   "metadata": {},
   "source": [
    "## g. Do you feel that using the data given really answers the original question asked?"
   ]
  },
  {
   "cell_type": "markdown",
   "id": "a058ba21",
   "metadata": {},
   "source": [
    "### Answer:The data given may not be sufficient to answer the original question since it only provides a small sample size from each country\n",
    "\n"
   ]
  },
  {
   "cell_type": "markdown",
   "id": "f215e5bc",
   "metadata": {},
   "source": [
    "## h. What other data might be used to answer the question?"
   ]
  },
  {
   "cell_type": "markdown",
   "id": "ee7b4e1e",
   "metadata": {},
   "source": [
    "### To answer this question  more comprehensively,additional data that could be used includes CEO ages from a larger and more diverse sample of companies in both the UK and the USA. \n",
    "### Additionally ,demographic information ,such as the distribution of CEO ages across industries,could provide further context for the comparision."
   ]
  }
 ],
 "metadata": {
  "kernelspec": {
   "display_name": "Python 3 (ipykernel)",
   "language": "python",
   "name": "python3"
  },
  "language_info": {
   "codemirror_mode": {
    "name": "ipython",
    "version": 3
   },
   "file_extension": ".py",
   "mimetype": "text/x-python",
   "name": "python",
   "nbconvert_exporter": "python",
   "pygments_lexer": "ipython3",
   "version": "3.9.13"
  }
 },
 "nbformat": 4,
 "nbformat_minor": 5
}
